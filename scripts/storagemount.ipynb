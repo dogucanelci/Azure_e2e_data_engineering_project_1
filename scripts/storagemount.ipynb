{
 "cells": [
  {
   "cell_type": "code",
   "execution_count": 0,
   "metadata": {
    "application/vnd.databricks.v1+cell": {
     "cellMetadata": {
      "byteLimit": 2048000,
      "rowLimit": 10000
     },
     "inputWidgets": {},
     "nuid": "d39315d6-3014-4019-ae86-08f117cacd3d",
     "showTitle": false,
     "title": ""
    }
   },
   "outputs": [
    {
     "output_type": "stream",
     "name": "stdout",
     "output_type": "stream",
     "text": [
      "Out[1]: True"
     ]
    }
   ],
   "source": [
    "configs = {\n",
    "  \"fs.azure.account.auth.type\": \"CustomAccessToken\",\n",
    "  \"fs.azure.account.custom.token.provider.class\": spark.conf.get(\"spark.databricks.passthrough.adls.gen2.tokenProviderClassName\")\n",
    "}\n",
    "\n",
    "# Optionally, you can add <directory-name> to the source URI of your mount point.\n",
    "dbutils.fs.mount(\n",
    "  source = \"abfss://bronze@dogudatalakegen2.dfs.core.windows.net/\",\n",
    "  mount_point = \"/mnt/bronze\",\n",
    "  extra_configs = configs)"
   ]
  },
  {
   "cell_type": "code",
   "execution_count": 0,
   "metadata": {
    "application/vnd.databricks.v1+cell": {
     "cellMetadata": {
      "byteLimit": 2048000,
      "rowLimit": 10000
     },
     "inputWidgets": {},
     "nuid": "cf7222eb-676d-45a3-b9b7-28070c094d43",
     "showTitle": false,
     "title": ""
    }
   },
   "outputs": [
    {
     "output_type": "stream",
     "name": "stdout",
     "output_type": "stream",
     "text": [
      "Out[3]: [FileInfo(path='dbfs:/mnt/bronze/Sales/CountryRegionCurrency/', name='CountryRegionCurrency/', size=0, modificationTime=1707612039000),\n FileInfo(path='dbfs:/mnt/bronze/Sales/CreditCard/', name='CreditCard/', size=0, modificationTime=1707612045000),\n FileInfo(path='dbfs:/mnt/bronze/Sales/Currency/', name='Currency/', size=0, modificationTime=1707612035000),\n FileInfo(path='dbfs:/mnt/bronze/Sales/CurrencyRate/', name='CurrencyRate/', size=0, modificationTime=1707612043000),\n FileInfo(path='dbfs:/mnt/bronze/Sales/Customer/', name='Customer/', size=0, modificationTime=1707612035000),\n FileInfo(path='dbfs:/mnt/bronze/Sales/PersonCreditCard/', name='PersonCreditCard/', size=0, modificationTime=1707612046000),\n FileInfo(path='dbfs:/mnt/bronze/Sales/SalesOrderDetail/', name='SalesOrderDetail/', size=0, modificationTime=1707612045000),\n FileInfo(path='dbfs:/mnt/bronze/Sales/SalesOrderHeader/', name='SalesOrderHeader/', size=0, modificationTime=1707612042000),\n FileInfo(path='dbfs:/mnt/bronze/Sales/SalesOrderHeaderSalesReason/', name='SalesOrderHeaderSalesReason/', size=0, modificationTime=1707612035000),\n FileInfo(path='dbfs:/mnt/bronze/Sales/SalesPerson/', name='SalesPerson/', size=0, modificationTime=1707612035000),\n FileInfo(path='dbfs:/mnt/bronze/Sales/SalesPersonQuotaHistory/', name='SalesPersonQuotaHistory/', size=0, modificationTime=1707612040000),\n FileInfo(path='dbfs:/mnt/bronze/Sales/SalesReason/', name='SalesReason/', size=0, modificationTime=1707612041000),\n FileInfo(path='dbfs:/mnt/bronze/Sales/SalesTaxRate/', name='SalesTaxRate/', size=0, modificationTime=1707612041000),\n FileInfo(path='dbfs:/mnt/bronze/Sales/SalesTerritory/', name='SalesTerritory/', size=0, modificationTime=1707612044000),\n FileInfo(path='dbfs:/mnt/bronze/Sales/SalesTerritoryHistory/', name='SalesTerritoryHistory/', size=0, modificationTime=1707612042000),\n FileInfo(path='dbfs:/mnt/bronze/Sales/ShoppingCartItem/', name='ShoppingCartItem/', size=0, modificationTime=1707612046000),\n FileInfo(path='dbfs:/mnt/bronze/Sales/SpecialOffer/', name='SpecialOffer/', size=0, modificationTime=1707612043000),\n FileInfo(path='dbfs:/mnt/bronze/Sales/SpecialOfferProduct/', name='SpecialOfferProduct/', size=0, modificationTime=1707612036000),\n FileInfo(path='dbfs:/mnt/bronze/Sales/Store/', name='Store/', size=0, modificationTime=1707612035000)]"
     ]
    }
   ],
   "source": [
    "dbutils.fs.ls(\"/mnt/bronze/Sales/\")"
   ]
  },
  {
   "cell_type": "code",
   "execution_count": 0,
   "metadata": {
    "application/vnd.databricks.v1+cell": {
     "cellMetadata": {
      "byteLimit": 2048000,
      "rowLimit": 10000
     },
     "inputWidgets": {},
     "nuid": "aea6c9ed-a3b3-4166-8e27-fc485ac9fc8a",
     "showTitle": false,
     "title": ""
    }
   },
   "outputs": [],
   "source": [
    "input_path = '/mnt/bronze/Sales/SpecialOffer/SpecialOffer.csv'"
   ]
  },
  {
   "cell_type": "code",
   "execution_count": 0,
   "metadata": {
    "application/vnd.databricks.v1+cell": {
     "cellMetadata": {
      "byteLimit": 2048000,
      "rowLimit": 10000
     },
     "inputWidgets": {},
     "nuid": "a7a43463-4910-465c-8b3a-e2854f4a0bdf",
     "showTitle": false,
     "title": ""
    }
   },
   "outputs": [],
   "source": [
    "df = spark.read.format('csv').load(input_path,header=True)"
   ]
  },
  {
   "cell_type": "code",
   "execution_count": 0,
   "metadata": {
    "application/vnd.databricks.v1+cell": {
     "cellMetadata": {
      "byteLimit": 2048000,
      "rowLimit": 10000
     },
     "inputWidgets": {},
     "nuid": "da924633-feeb-4625-9e22-be5bb089fa88",
     "showTitle": false,
     "title": ""
    }
   },
   "outputs": [
    {
     "output_type": "display_data",
     "data": {
      "text/html": [
       "<style scoped>\n",
       "  .table-result-container {\n",
       "    max-height: 300px;\n",
       "    overflow: auto;\n",
       "  }\n",
       "  table, th, td {\n",
       "    border: 1px solid black;\n",
       "    border-collapse: collapse;\n",
       "  }\n",
       "  th, td {\n",
       "    padding: 5px;\n",
       "  }\n",
       "  th {\n",
       "    text-align: left;\n",
       "  }\n",
       "</style><div class='table-result-container'><table class='table-result'><thead style='background-color: white'><tr><th>SpecialOfferID</th><th>Description</th><th>DiscountPct</th><th>Type</th><th>Category</th><th>StartDate</th><th>EndDate</th><th>MinQty</th><th>MaxQty</th><th>rowguid</th><th>ModifiedDate</th></tr></thead><tbody><tr><td>1</td><td>No Discount</td><td>0.0000</td><td>No Discount</td><td>No Discount</td><td>2011-05-01 00:00:00.0000000</td><td>2014-11-30 00:00:00.0000000</td><td>0</td><td>null</td><td>0290c4f5-191f-4337-ab6b-0a2dde03cbf9</td><td>2011-04-01 00:00:00.0000000</td></tr><tr><td>2</td><td>Volume Discount 11 to 14</td><td>0.0200</td><td>Volume Discount</td><td>Reseller</td><td>2011-05-31 00:00:00.0000000</td><td>2014-05-30 00:00:00.0000000</td><td>11</td><td>14</td><td>d7542ee7-15db-4541-985c-5cc27aef26d6</td><td>2011-05-01 00:00:00.0000000</td></tr><tr><td>3</td><td>Volume Discount 15 to 24</td><td>0.0500</td><td>Volume Discount</td><td>Reseller</td><td>2011-05-31 00:00:00.0000000</td><td>2014-05-30 00:00:00.0000000</td><td>15</td><td>24</td><td>4bdbcc01-8cf7-40a9-b643-40ec5b717491</td><td>2011-05-01 00:00:00.0000000</td></tr><tr><td>4</td><td>Volume Discount 25 to 40</td><td>0.1000</td><td>Volume Discount</td><td>Reseller</td><td>2011-05-31 00:00:00.0000000</td><td>2014-05-30 00:00:00.0000000</td><td>25</td><td>40</td><td>504b5e85-8f3f-4ebc-9e1d-c1bc5dea9aa8</td><td>2011-05-01 00:00:00.0000000</td></tr><tr><td>5</td><td>Volume Discount 41 to 60</td><td>0.1500</td><td>Volume Discount</td><td>Reseller</td><td>2011-05-31 00:00:00.0000000</td><td>2014-05-30 00:00:00.0000000</td><td>41</td><td>60</td><td>677e1d9d-944f-4e81-90e8-47eb0a82d48c</td><td>2011-05-01 00:00:00.0000000</td></tr><tr><td>6</td><td>Volume Discount over 60</td><td>0.2000</td><td>Volume Discount</td><td>Reseller</td><td>2011-05-31 00:00:00.0000000</td><td>2014-05-30 00:00:00.0000000</td><td>61</td><td>null</td><td>8157f569-4e8d-46b6-9347-5d0f726a9439</td><td>2011-05-01 00:00:00.0000000</td></tr><tr><td>7</td><td>Mountain-100 Clearance Sale</td><td>0.3500</td><td>Discontinued Product</td><td>Reseller</td><td>2012-04-13 00:00:00.0000000</td><td>2012-05-29 00:00:00.0000000</td><td>0</td><td>null</td><td>7df15bf5-6c05-47e7-80a4-22bd1ce59a72</td><td>2012-03-14 00:00:00.0000000</td></tr><tr><td>8</td><td>Sport Helmet Discount-2002</td><td>0.1000</td><td>Seasonal Discount</td><td>Reseller</td><td>2012-05-30 00:00:00.0000000</td><td>2012-06-29 00:00:00.0000000</td><td>0</td><td>null</td><td>20c5d2cc-a38f-48f8-ac9a-8f15943e52ae</td><td>2012-04-30 00:00:00.0000000</td></tr><tr><td>9</td><td>Road-650 Overstock</td><td>0.3000</td><td>Excess Inventory</td><td>Reseller</td><td>2012-05-30 00:00:00.0000000</td><td>2012-07-30 00:00:00.0000000</td><td>0</td><td>null</td><td>0cf8472b-f9e6-4945-9e09-549d7dde2198</td><td>2012-04-30 00:00:00.0000000</td></tr><tr><td>10</td><td>Mountain Tire Sale</td><td>0.5000</td><td>Excess Inventory</td><td>Customer</td><td>2013-05-14 00:00:00.0000000</td><td>2013-07-29 00:00:00.0000000</td><td>0</td><td>null</td><td>220444ad-2ef3-4e4c-87e9-3aa6ee39a877</td><td>2013-04-14 00:00:00.0000000</td></tr><tr><td>11</td><td>Sport Helmet Discount-2003</td><td>0.1500</td><td>Seasonal Discount</td><td>Reseller</td><td>2013-05-30 00:00:00.0000000</td><td>2013-06-29 00:00:00.0000000</td><td>0</td><td>null</td><td>e72dab1d-f44d-448b-9fe2-f259a2f0210d</td><td>2013-04-30 00:00:00.0000000</td></tr><tr><td>12</td><td>LL Road Frame Sale</td><td>0.3500</td><td>Excess Inventory</td><td>Reseller</td><td>2013-05-30 00:00:00.0000000</td><td>2013-07-14 00:00:00.0000000</td><td>0</td><td>null</td><td>c0af1c89-9722-4235-9248-3fba4d9e5841</td><td>2013-04-30 00:00:00.0000000</td></tr><tr><td>13</td><td>Touring-3000 Promotion</td><td>0.1500</td><td>New Product</td><td>Reseller</td><td>2013-05-30 00:00:00.0000000</td><td>2013-08-29 00:00:00.0000000</td><td>0</td><td>null</td><td>5061cce4-e021-45a8-9a75-dfb36cbbce85</td><td>2013-04-30 00:00:00.0000000</td></tr><tr><td>14</td><td>Touring-1000 Promotion</td><td>0.2000</td><td>New Product</td><td>Reseller</td><td>2013-05-30 00:00:00.0000000</td><td>2013-08-29 00:00:00.0000000</td><td>0</td><td>null</td><td>1af84a9e-a98c-4bd9-b48f-dc2b8b6b010b</td><td>2013-04-30 00:00:00.0000000</td></tr><tr><td>15</td><td>Half-Price Pedal Sale</td><td>0.5000</td><td>Seasonal Discount</td><td>Customer</td><td>2013-07-14 00:00:00.0000000</td><td>2013-08-14 00:00:00.0000000</td><td>0</td><td>null</td><td>03e3594d-6ebb-46a6-b8ee-a9289c0c2e47</td><td>2013-06-14 00:00:00.0000000</td></tr><tr><td>16</td><td>Mountain-500 Silver Clearance Sale</td><td>0.4000</td><td>Discontinued Product</td><td>Reseller</td><td>2014-03-31 00:00:00.0000000</td><td>2014-05-30 00:00:00.0000000</td><td>0</td><td>null</td><td>eb7cb484-bccf-4d2d-bf73-521b20014174</td><td>2014-03-01 00:00:00.0000000</td></tr></tbody></table></div>"
      ]
     },
     "metadata": {
      "application/vnd.databricks.v1+output": {
       "addedWidgets": {},
       "aggData": [],
       "aggError": "",
       "aggOverflow": false,
       "aggSchema": [],
       "aggSeriesLimitReached": false,
       "aggType": "",
       "arguments": {},
       "columnCustomDisplayInfos": {},
       "data": [
        [
         "1",
         "No Discount",
         "0.0000",
         "No Discount",
         "No Discount",
         "2011-05-01 00:00:00.0000000",
         "2014-11-30 00:00:00.0000000",
         "0",
         null,
         "0290c4f5-191f-4337-ab6b-0a2dde03cbf9",
         "2011-04-01 00:00:00.0000000"
        ],
        [
         "2",
         "Volume Discount 11 to 14",
         "0.0200",
         "Volume Discount",
         "Reseller",
         "2011-05-31 00:00:00.0000000",
         "2014-05-30 00:00:00.0000000",
         "11",
         "14",
         "d7542ee7-15db-4541-985c-5cc27aef26d6",
         "2011-05-01 00:00:00.0000000"
        ],
        [
         "3",
         "Volume Discount 15 to 24",
         "0.0500",
         "Volume Discount",
         "Reseller",
         "2011-05-31 00:00:00.0000000",
         "2014-05-30 00:00:00.0000000",
         "15",
         "24",
         "4bdbcc01-8cf7-40a9-b643-40ec5b717491",
         "2011-05-01 00:00:00.0000000"
        ],
        [
         "4",
         "Volume Discount 25 to 40",
         "0.1000",
         "Volume Discount",
         "Reseller",
         "2011-05-31 00:00:00.0000000",
         "2014-05-30 00:00:00.0000000",
         "25",
         "40",
         "504b5e85-8f3f-4ebc-9e1d-c1bc5dea9aa8",
         "2011-05-01 00:00:00.0000000"
        ],
        [
         "5",
         "Volume Discount 41 to 60",
         "0.1500",
         "Volume Discount",
         "Reseller",
         "2011-05-31 00:00:00.0000000",
         "2014-05-30 00:00:00.0000000",
         "41",
         "60",
         "677e1d9d-944f-4e81-90e8-47eb0a82d48c",
         "2011-05-01 00:00:00.0000000"
        ],
        [
         "6",
         "Volume Discount over 60",
         "0.2000",
         "Volume Discount",
         "Reseller",
         "2011-05-31 00:00:00.0000000",
         "2014-05-30 00:00:00.0000000",
         "61",
         null,
         "8157f569-4e8d-46b6-9347-5d0f726a9439",
         "2011-05-01 00:00:00.0000000"
        ],
        [
         "7",
         "Mountain-100 Clearance Sale",
         "0.3500",
         "Discontinued Product",
         "Reseller",
         "2012-04-13 00:00:00.0000000",
         "2012-05-29 00:00:00.0000000",
         "0",
         null,
         "7df15bf5-6c05-47e7-80a4-22bd1ce59a72",
         "2012-03-14 00:00:00.0000000"
        ],
        [
         "8",
         "Sport Helmet Discount-2002",
         "0.1000",
         "Seasonal Discount",
         "Reseller",
         "2012-05-30 00:00:00.0000000",
         "2012-06-29 00:00:00.0000000",
         "0",
         null,
         "20c5d2cc-a38f-48f8-ac9a-8f15943e52ae",
         "2012-04-30 00:00:00.0000000"
        ],
        [
         "9",
         "Road-650 Overstock",
         "0.3000",
         "Excess Inventory",
         "Reseller",
         "2012-05-30 00:00:00.0000000",
         "2012-07-30 00:00:00.0000000",
         "0",
         null,
         "0cf8472b-f9e6-4945-9e09-549d7dde2198",
         "2012-04-30 00:00:00.0000000"
        ],
        [
         "10",
         "Mountain Tire Sale",
         "0.5000",
         "Excess Inventory",
         "Customer",
         "2013-05-14 00:00:00.0000000",
         "2013-07-29 00:00:00.0000000",
         "0",
         null,
         "220444ad-2ef3-4e4c-87e9-3aa6ee39a877",
         "2013-04-14 00:00:00.0000000"
        ],
        [
         "11",
         "Sport Helmet Discount-2003",
         "0.1500",
         "Seasonal Discount",
         "Reseller",
         "2013-05-30 00:00:00.0000000",
         "2013-06-29 00:00:00.0000000",
         "0",
         null,
         "e72dab1d-f44d-448b-9fe2-f259a2f0210d",
         "2013-04-30 00:00:00.0000000"
        ],
        [
         "12",
         "LL Road Frame Sale",
         "0.3500",
         "Excess Inventory",
         "Reseller",
         "2013-05-30 00:00:00.0000000",
         "2013-07-14 00:00:00.0000000",
         "0",
         null,
         "c0af1c89-9722-4235-9248-3fba4d9e5841",
         "2013-04-30 00:00:00.0000000"
        ],
        [
         "13",
         "Touring-3000 Promotion",
         "0.1500",
         "New Product",
         "Reseller",
         "2013-05-30 00:00:00.0000000",
         "2013-08-29 00:00:00.0000000",
         "0",
         null,
         "5061cce4-e021-45a8-9a75-dfb36cbbce85",
         "2013-04-30 00:00:00.0000000"
        ],
        [
         "14",
         "Touring-1000 Promotion",
         "0.2000",
         "New Product",
         "Reseller",
         "2013-05-30 00:00:00.0000000",
         "2013-08-29 00:00:00.0000000",
         "0",
         null,
         "1af84a9e-a98c-4bd9-b48f-dc2b8b6b010b",
         "2013-04-30 00:00:00.0000000"
        ],
        [
         "15",
         "Half-Price Pedal Sale",
         "0.5000",
         "Seasonal Discount",
         "Customer",
         "2013-07-14 00:00:00.0000000",
         "2013-08-14 00:00:00.0000000",
         "0",
         null,
         "03e3594d-6ebb-46a6-b8ee-a9289c0c2e47",
         "2013-06-14 00:00:00.0000000"
        ],
        [
         "16",
         "Mountain-500 Silver Clearance Sale",
         "0.4000",
         "Discontinued Product",
         "Reseller",
         "2014-03-31 00:00:00.0000000",
         "2014-05-30 00:00:00.0000000",
         "0",
         null,
         "eb7cb484-bccf-4d2d-bf73-521b20014174",
         "2014-03-01 00:00:00.0000000"
        ]
       ],
       "datasetInfos": [],
       "dbfsResultPath": null,
       "isJsonSchema": true,
       "metadata": {},
       "overflow": false,
       "plotOptions": {
        "customPlotOptions": {},
        "displayType": "table",
        "pivotAggregation": null,
        "pivotColumns": null,
        "xColumns": null,
        "yColumns": null
       },
       "removedWidgets": [],
       "schema": [
        {
         "metadata": "{}",
         "name": "SpecialOfferID",
         "type": "\"string\""
        },
        {
         "metadata": "{}",
         "name": "Description",
         "type": "\"string\""
        },
        {
         "metadata": "{}",
         "name": "DiscountPct",
         "type": "\"string\""
        },
        {
         "metadata": "{}",
         "name": "Type",
         "type": "\"string\""
        },
        {
         "metadata": "{}",
         "name": "Category",
         "type": "\"string\""
        },
        {
         "metadata": "{}",
         "name": "StartDate",
         "type": "\"string\""
        },
        {
         "metadata": "{}",
         "name": "EndDate",
         "type": "\"string\""
        },
        {
         "metadata": "{}",
         "name": "MinQty",
         "type": "\"string\""
        },
        {
         "metadata": "{}",
         "name": "MaxQty",
         "type": "\"string\""
        },
        {
         "metadata": "{}",
         "name": "rowguid",
         "type": "\"string\""
        },
        {
         "metadata": "{}",
         "name": "ModifiedDate",
         "type": "\"string\""
        }
       ],
       "type": "table"
      }
     },
     "output_type": "display_data"
    }
   ],
   "source": [
    "df.display()"
   ]
  }
 ],
 "metadata": {
  "application/vnd.databricks.v1+notebook": {
   "dashboards": [],
   "language": "python",
   "notebookMetadata": {
    "pythonIndentUnit": 4
   },
   "notebookName": "storagemount",
   "widgets": {}
  }
 },
 "nbformat": 4,
 "nbformat_minor": 0
}
